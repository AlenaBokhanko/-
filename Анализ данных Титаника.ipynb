{
 "cells": [
  {
   "cell_type": "markdown",
   "id": "df74b0d5-d464-4d91-b032-b760f9fe1e0b",
   "metadata": {},
   "source": [
    "# 📊 Анализ и визуализация данных Титаника"
   ]
  },
  {
   "cell_type": "markdown",
   "id": "0ccf90c9-6668-47d7-b816-1b8cad247350",
   "metadata": {},
   "source": [
    "# 🔎 Введение\n",
    "\n",
    "Данный проект представляет собой исследование и предобработку данных датасета \"Titanic\". Датасет содержит информацию о пассажирах Титаника, такую как возраст, пол, класс каюты и другие факторы, которые могут повлиять на вероятность выживания. В процессе работы мы проведем анализ структуры данных, обработаем пропущенные значения, визуализируем ключевые статистические показатели. Целью анализа является выявление факторов, которые влияли на выживаемость пассажиров.\n",
    "\n"
   ]
  },
  {
   "cell_type": "markdown",
   "id": "efd0d26f-03df-42be-a124-834c60b1f30d",
   "metadata": {},
   "source": [
    "## 🔢 1. Загрузка и первичный анализ данных\n",
    "\n",
    "Сначала импортируем необходимые библиотеки и загрузим датасет с помощью seaborn:"
   ]
  },
  {
   "cell_type": "code",
   "execution_count": 263,
   "id": "bac18b1a-863c-4b21-9038-7effbb3ebfbf",
   "metadata": {},
   "outputs": [],
   "source": [
    "import pandas as pd\n",
    "import seaborn as sns\n",
    "import matplotlib.pyplot as plt\n",
    "import numpy as np"
   ]
  },
  {
   "cell_type": "code",
   "execution_count": 265,
   "id": "969377f7-4102-402b-8b0a-718049ec05ac",
   "metadata": {},
   "outputs": [
    {
     "data": {
      "text/html": [
       "<div>\n",
       "<style scoped>\n",
       "    .dataframe tbody tr th:only-of-type {\n",
       "        vertical-align: middle;\n",
       "    }\n",
       "\n",
       "    .dataframe tbody tr th {\n",
       "        vertical-align: top;\n",
       "    }\n",
       "\n",
       "    .dataframe thead th {\n",
       "        text-align: right;\n",
       "    }\n",
       "</style>\n",
       "<table border=\"1\" class=\"dataframe\">\n",
       "  <thead>\n",
       "    <tr style=\"text-align: right;\">\n",
       "      <th></th>\n",
       "      <th>survived</th>\n",
       "      <th>pclass</th>\n",
       "      <th>sex</th>\n",
       "      <th>age</th>\n",
       "      <th>sibsp</th>\n",
       "      <th>parch</th>\n",
       "      <th>fare</th>\n",
       "      <th>embarked</th>\n",
       "      <th>class</th>\n",
       "      <th>who</th>\n",
       "      <th>adult_male</th>\n",
       "      <th>deck</th>\n",
       "      <th>embark_town</th>\n",
       "      <th>alive</th>\n",
       "      <th>alone</th>\n",
       "    </tr>\n",
       "  </thead>\n",
       "  <tbody>\n",
       "    <tr>\n",
       "      <th>0</th>\n",
       "      <td>0</td>\n",
       "      <td>3</td>\n",
       "      <td>male</td>\n",
       "      <td>22.0</td>\n",
       "      <td>1</td>\n",
       "      <td>0</td>\n",
       "      <td>7.2500</td>\n",
       "      <td>S</td>\n",
       "      <td>Third</td>\n",
       "      <td>man</td>\n",
       "      <td>True</td>\n",
       "      <td>NaN</td>\n",
       "      <td>Southampton</td>\n",
       "      <td>no</td>\n",
       "      <td>False</td>\n",
       "    </tr>\n",
       "    <tr>\n",
       "      <th>1</th>\n",
       "      <td>1</td>\n",
       "      <td>1</td>\n",
       "      <td>female</td>\n",
       "      <td>38.0</td>\n",
       "      <td>1</td>\n",
       "      <td>0</td>\n",
       "      <td>71.2833</td>\n",
       "      <td>C</td>\n",
       "      <td>First</td>\n",
       "      <td>woman</td>\n",
       "      <td>False</td>\n",
       "      <td>C</td>\n",
       "      <td>Cherbourg</td>\n",
       "      <td>yes</td>\n",
       "      <td>False</td>\n",
       "    </tr>\n",
       "    <tr>\n",
       "      <th>2</th>\n",
       "      <td>1</td>\n",
       "      <td>3</td>\n",
       "      <td>female</td>\n",
       "      <td>26.0</td>\n",
       "      <td>0</td>\n",
       "      <td>0</td>\n",
       "      <td>7.9250</td>\n",
       "      <td>S</td>\n",
       "      <td>Third</td>\n",
       "      <td>woman</td>\n",
       "      <td>False</td>\n",
       "      <td>NaN</td>\n",
       "      <td>Southampton</td>\n",
       "      <td>yes</td>\n",
       "      <td>True</td>\n",
       "    </tr>\n",
       "    <tr>\n",
       "      <th>3</th>\n",
       "      <td>1</td>\n",
       "      <td>1</td>\n",
       "      <td>female</td>\n",
       "      <td>35.0</td>\n",
       "      <td>1</td>\n",
       "      <td>0</td>\n",
       "      <td>53.1000</td>\n",
       "      <td>S</td>\n",
       "      <td>First</td>\n",
       "      <td>woman</td>\n",
       "      <td>False</td>\n",
       "      <td>C</td>\n",
       "      <td>Southampton</td>\n",
       "      <td>yes</td>\n",
       "      <td>False</td>\n",
       "    </tr>\n",
       "    <tr>\n",
       "      <th>4</th>\n",
       "      <td>0</td>\n",
       "      <td>3</td>\n",
       "      <td>male</td>\n",
       "      <td>35.0</td>\n",
       "      <td>0</td>\n",
       "      <td>0</td>\n",
       "      <td>8.0500</td>\n",
       "      <td>S</td>\n",
       "      <td>Third</td>\n",
       "      <td>man</td>\n",
       "      <td>True</td>\n",
       "      <td>NaN</td>\n",
       "      <td>Southampton</td>\n",
       "      <td>no</td>\n",
       "      <td>True</td>\n",
       "    </tr>\n",
       "  </tbody>\n",
       "</table>\n",
       "</div>"
      ],
      "text/plain": [
       "   survived  pclass     sex   age  sibsp  parch     fare embarked  class  \\\n",
       "0         0       3    male  22.0      1      0   7.2500        S  Third   \n",
       "1         1       1  female  38.0      1      0  71.2833        C  First   \n",
       "2         1       3  female  26.0      0      0   7.9250        S  Third   \n",
       "3         1       1  female  35.0      1      0  53.1000        S  First   \n",
       "4         0       3    male  35.0      0      0   8.0500        S  Third   \n",
       "\n",
       "     who  adult_male deck  embark_town alive  alone  \n",
       "0    man        True  NaN  Southampton    no  False  \n",
       "1  woman       False    C    Cherbourg   yes  False  \n",
       "2  woman       False  NaN  Southampton   yes   True  \n",
       "3  woman       False    C  Southampton   yes  False  \n",
       "4    man        True  NaN  Southampton    no   True  "
      ]
     },
     "execution_count": 265,
     "metadata": {},
     "output_type": "execute_result"
    }
   ],
   "source": [
    "# Загрузка датасета\n",
    "titanic_dataset = sns.load_dataset('titanic')\n",
    "\n",
    "# Выводим первые 5 строк датасета\n",
    "titanic_dataset.head()"
   ]
  },
  {
   "cell_type": "code",
   "execution_count": 267,
   "id": "74ce07cb-7fbc-445f-b652-29f41758c843",
   "metadata": {},
   "outputs": [
    {
     "name": "stdout",
     "output_type": "stream",
     "text": [
      "<class 'pandas.core.frame.DataFrame'>\n",
      "RangeIndex: 891 entries, 0 to 890\n",
      "Data columns (total 15 columns):\n",
      " #   Column       Non-Null Count  Dtype   \n",
      "---  ------       --------------  -----   \n",
      " 0   survived     891 non-null    int64   \n",
      " 1   pclass       891 non-null    int64   \n",
      " 2   sex          891 non-null    object  \n",
      " 3   age          714 non-null    float64 \n",
      " 4   sibsp        891 non-null    int64   \n",
      " 5   parch        891 non-null    int64   \n",
      " 6   fare         891 non-null    float64 \n",
      " 7   embarked     889 non-null    object  \n",
      " 8   class        891 non-null    category\n",
      " 9   who          891 non-null    object  \n",
      " 10  adult_male   891 non-null    bool    \n",
      " 11  deck         203 non-null    category\n",
      " 12  embark_town  889 non-null    object  \n",
      " 13  alive        891 non-null    object  \n",
      " 14  alone        891 non-null    bool    \n",
      "dtypes: bool(2), category(2), float64(2), int64(4), object(5)\n",
      "memory usage: 80.7+ KB\n",
      "None\n"
     ]
    }
   ],
   "source": [
    "# Общая информация о датасете\n",
    "print(titanic_dataset.info())"
   ]
  },
  {
   "cell_type": "code",
   "execution_count": 269,
   "id": "18280b51-e7ec-4834-b3d9-e9b693f22e3c",
   "metadata": {},
   "outputs": [
    {
     "name": "stdout",
     "output_type": "stream",
     "text": [
      "         survived      pclass         age       sibsp       parch        fare\n",
      "count  891.000000  891.000000  714.000000  891.000000  891.000000  891.000000\n",
      "mean     0.383838    2.308642   29.699118    0.523008    0.381594   32.204208\n",
      "std      0.486592    0.836071   14.526497    1.102743    0.806057   49.693429\n",
      "min      0.000000    1.000000    0.420000    0.000000    0.000000    0.000000\n",
      "25%      0.000000    2.000000   20.125000    0.000000    0.000000    7.910400\n",
      "50%      0.000000    3.000000   28.000000    0.000000    0.000000   14.454200\n",
      "75%      1.000000    3.000000   38.000000    1.000000    0.000000   31.000000\n",
      "max      1.000000    3.000000   80.000000    8.000000    6.000000  512.329200\n"
     ]
    }
   ],
   "source": [
    "# Статистическое описание числовых переменных\n",
    "print(titanic_dataset.describe())"
   ]
  },
  {
   "cell_type": "markdown",
   "id": "0ebc8d4c-bac8-403e-8aeb-48d00aaf7302",
   "metadata": {},
   "source": [
    "## 🎮 2. Обнаружение и обработка пропущенных значений\n",
    "\n",
    "Проверим, какие колонки содержат пропущенные значения:"
   ]
  },
  {
   "cell_type": "code",
   "execution_count": 272,
   "id": "703c8b97-4845-4c1e-a78c-ebd9fee34ecd",
   "metadata": {},
   "outputs": [
    {
     "name": "stdout",
     "output_type": "stream",
     "text": [
      "survived         0\n",
      "pclass           0\n",
      "sex              0\n",
      "age            177\n",
      "sibsp            0\n",
      "parch            0\n",
      "fare             0\n",
      "embarked         2\n",
      "class            0\n",
      "who              0\n",
      "adult_male       0\n",
      "deck           688\n",
      "embark_town      2\n",
      "alive            0\n",
      "alone            0\n",
      "dtype: int64\n"
     ]
    }
   ],
   "source": [
    "# Проверяем пропущенные значения\n",
    "print(titanic_dataset.isnull().sum())"
   ]
  },
  {
   "cell_type": "markdown",
   "id": "3531a0bd-9e9a-4566-9349-9b49663cfdc6",
   "metadata": {},
   "source": [
    "**Заполним пропущенные значения следующим образом:**\n",
    "\n",
    "- Числовые переменные (age) — медианным значением.\n",
    "\n",
    "- Категориальные переменные (embark_town) — наиболее частым значением.\n",
    "\n",
    "- Пропущенные значения в столбце 'embarked' необходимо вставить в соответствии с названием порта посадки:\n",
    "  1. S = Southampton\n",
    "  2. С = Cherbourg\n",
    "  3. Q = Queenstown\n",
    "\n",
    "\n",
    "- Данные по столбцу ***deck*** оставим как есть, так как пропуски здесь не критичны для нашего анализа и мы исследуем другие признаки.\n",
    "\n",
    " "
   ]
  },
  {
   "cell_type": "code",
   "execution_count": 324,
   "id": "9ccf9df8-79f4-41c4-ada6-f6e33c60ac30",
   "metadata": {},
   "outputs": [],
   "source": [
    "#Заполнение пропущенных значений"
   ]
  },
  {
   "cell_type": "code",
   "execution_count": 277,
   "id": "1f970f49-c531-4c8e-a444-ea78d0260f3d",
   "metadata": {},
   "outputs": [],
   "source": [
    "# Для порта посадки используем моду (самое частое значение)\n",
    "titanic_dataset['embark_town'] = titanic_dataset['embark_town'].fillna(titanic_dataset['embark_town'].mode()[0])\n",
    "\n",
    "# Для возраста используем медиану\n",
    "titanic_dataset['age'] = titanic_dataset['age'].fillna(titanic_dataset['age'].median())\n",
    "\n",
    "# Функция для заполнения пропусков в столбце 'embarked'\n",
    "def fill_embarked(row):\n",
    "    if pd.isnull(row['embarked']):\n",
    "        if row['embark_town'] == 'Southampton':\n",
    "            return 'S'\n",
    "        elif row['embark_town'] == 'Cherbourg':\n",
    "            return 'C'\n",
    "        elif row['embark_town'] == 'Queenstown':\n",
    "            return 'Q'\n",
    "    else:\n",
    "        return row['embarked']\n",
    "\n",
    "# Применяем функцию к столбцу 'embarked'\n",
    "titanic_dataset['embarked'] = titanic_dataset.apply(fill_embarked, axis=1)\n"
   ]
  },
  {
   "cell_type": "code",
   "execution_count": 279,
   "id": "bb4327f0-0883-4798-80ab-1ae2464ba2c5",
   "metadata": {},
   "outputs": [
    {
     "name": "stdout",
     "output_type": "stream",
     "text": [
      "survived         0\n",
      "pclass           0\n",
      "sex              0\n",
      "age              0\n",
      "sibsp            0\n",
      "parch            0\n",
      "fare             0\n",
      "embarked         0\n",
      "class            0\n",
      "who              0\n",
      "adult_male       0\n",
      "deck           688\n",
      "embark_town      0\n",
      "alive            0\n",
      "alone            0\n",
      "dtype: int64\n"
     ]
    }
   ],
   "source": [
    "#Перепроверяем кол-во пропущенных значений\n",
    "print(titanic_dataset.isnull().sum())"
   ]
  },
  {
   "cell_type": "markdown",
   "id": "ecab6ef5-651f-4780-b849-41bafe6269a2",
   "metadata": {},
   "source": [
    "# 🌄 3. Расчет ключевых метрик и визуализация данных\n"
   ]
  },
  {
   "cell_type": "code",
   "execution_count": 282,
   "id": "cd6ecd6f-5ef9-4556-aa10-ba5747ebbe49",
   "metadata": {},
   "outputs": [
    {
     "data": {
      "text/html": [
       "<div>\n",
       "<style scoped>\n",
       "    .dataframe tbody tr th:only-of-type {\n",
       "        vertical-align: middle;\n",
       "    }\n",
       "\n",
       "    .dataframe tbody tr th {\n",
       "        vertical-align: top;\n",
       "    }\n",
       "\n",
       "    .dataframe thead th {\n",
       "        text-align: right;\n",
       "    }\n",
       "</style>\n",
       "<table border=\"1\" class=\"dataframe\">\n",
       "  <thead>\n",
       "    <tr style=\"text-align: right;\">\n",
       "      <th></th>\n",
       "      <th>sex</th>\n",
       "      <th>survived</th>\n",
       "    </tr>\n",
       "  </thead>\n",
       "  <tbody>\n",
       "    <tr>\n",
       "      <th>0</th>\n",
       "      <td>female</td>\n",
       "      <td>233</td>\n",
       "    </tr>\n",
       "    <tr>\n",
       "      <th>1</th>\n",
       "      <td>male</td>\n",
       "      <td>109</td>\n",
       "    </tr>\n",
       "  </tbody>\n",
       "</table>\n",
       "</div>"
      ],
      "text/plain": [
       "      sex  survived\n",
       "0  female       233\n",
       "1    male       109"
      ]
     },
     "execution_count": 282,
     "metadata": {},
     "output_type": "execute_result"
    }
   ],
   "source": [
    "#Посчитаем кол-во выживших в разрезе пола\n",
    "dataset_survived = titanic_dataset.query(\"survived == 1\") \\\n",
    "                                  .groupby(['sex'], as_index = False)\\\n",
    "                                  .agg({'survived': 'count'})\n",
    "dataset_survived"
   ]
  },
  {
   "cell_type": "code",
   "execution_count": 298,
   "id": "fc550052-74f3-4433-9160-a74a7402e989",
   "metadata": {},
   "outputs": [
    {
     "data": {
      "text/plain": [
       "<Figure size 600x400 with 0 Axes>"
      ]
     },
     "execution_count": 298,
     "metadata": {},
     "output_type": "execute_result"
    },
    {
     "data": {
      "image/png": "[encoded data removed]",
      "text/plain": [
       "<Figure size 640x480 with 1 Axes>"
      ]
     },
     "metadata": {},
     "output_type": "display_data"
    },
    {
     "data": {
      "text/plain": [
       "<Figure size 600x400 with 0 Axes>"
      ]
     },
     "metadata": {},
     "output_type": "display_data"
    }
   ],
   "source": [
    "#Отобразим информацию по кол-ву выживших в разрезе пола на графике\n",
    "sns.barplot(x='sex', y='survived', data=dataset_survived, hue='sex', palette='coolwarm', legend=False)\n",
    "plt.title('Распределение выживших')\n",
    "plt.figure(figsize=(6, 4))"
   ]
  },
  {
   "cell_type": "code",
   "execution_count": 290,
   "id": "fb047a0d-5a0f-43d1-ba83-d467dad54c9e",
   "metadata": {},
   "outputs": [
    {
     "data": {
      "text/html": [
       "<div>\n",
       "<style scoped>\n",
       "    .dataframe tbody tr th:only-of-type {\n",
       "        vertical-align: middle;\n",
       "    }\n",
       "\n",
       "    .dataframe tbody tr th {\n",
       "        vertical-align: top;\n",
       "    }\n",
       "\n",
       "    .dataframe thead th {\n",
       "        text-align: right;\n",
       "    }\n",
       "</style>\n",
       "<table border=\"1\" class=\"dataframe\">\n",
       "  <thead>\n",
       "    <tr style=\"text-align: right;\">\n",
       "      <th></th>\n",
       "      <th></th>\n",
       "      <th>survived</th>\n",
       "    </tr>\n",
       "    <tr>\n",
       "      <th>sex</th>\n",
       "      <th>survival_status</th>\n",
       "      <th></th>\n",
       "    </tr>\n",
       "  </thead>\n",
       "  <tbody>\n",
       "    <tr>\n",
       "      <th rowspan=\"2\" valign=\"top\">female</th>\n",
       "      <th>not survived</th>\n",
       "      <td>81</td>\n",
       "    </tr>\n",
       "    <tr>\n",
       "      <th>survived</th>\n",
       "      <td>233</td>\n",
       "    </tr>\n",
       "    <tr>\n",
       "      <th rowspan=\"2\" valign=\"top\">male</th>\n",
       "      <th>not survived</th>\n",
       "      <td>468</td>\n",
       "    </tr>\n",
       "    <tr>\n",
       "      <th>survived</th>\n",
       "      <td>109</td>\n",
       "    </tr>\n",
       "  </tbody>\n",
       "</table>\n",
       "</div>"
      ],
      "text/plain": [
       "                        survived\n",
       "sex    survival_status          \n",
       "female not survived           81\n",
       "       survived              233\n",
       "male   not survived          468\n",
       "       survived              109"
      ]
     },
     "execution_count": 290,
     "metadata": {},
     "output_type": "execute_result"
    }
   ],
   "source": [
    "#Посчитаем кол-во выживших и погибших мужчин и женщин\n",
    "df = titanic_dataset.copy()\n",
    "df['survival_status'] = np.where(df['survived'] == 1, 'survived', 'not survived')\n",
    "survival_status = df.groupby(['sex', 'survival_status'], as_index = True)\\\n",
    "                    .agg({'survived' : 'count'})                              \n",
    "survival_status"
   ]
  },
  {
   "cell_type": "code",
   "execution_count": 300,
   "id": "a488bd7a-4a44-4cd8-a50a-2c0f155b0c3a",
   "metadata": {},
   "outputs": [
    {
     "data": {
      "text/plain": [
       "<seaborn.axisgrid.FacetGrid at 0x172a87020>"
      ]
     },
     "execution_count": 300,
     "metadata": {},
     "output_type": "execute_result"
    },
    {
     "data": {
      "image/png": "[encoded data removed]",
      "text/plain": [
       "<Figure size 636.5x500 with 1 Axes>"
      ]
     },
     "metadata": {},
     "output_type": "display_data"
    }
   ],
   "source": [
    "#Отобразим информацию по кол-ву выживших и погибших в разрезе пола на графике\n",
    "sns.catplot(data = df, hue = 'survival_status', x = 'sex', kind = 'count', saturation = 0.5, palette='coolwarm')"
   ]
  },
  {
   "cell_type": "code",
   "execution_count": 304,
   "id": "6c2ab13a-c48c-4908-a758-4b1fef4b24a3",
   "metadata": {},
   "outputs": [
    {
     "data": {
      "text/html": [
       "<div>\n",
       "<style scoped>\n",
       "    .dataframe tbody tr th:only-of-type {\n",
       "        vertical-align: middle;\n",
       "    }\n",
       "\n",
       "    .dataframe tbody tr th {\n",
       "        vertical-align: top;\n",
       "    }\n",
       "\n",
       "    .dataframe thead th {\n",
       "        text-align: right;\n",
       "    }\n",
       "</style>\n",
       "<table border=\"1\" class=\"dataframe\">\n",
       "  <thead>\n",
       "    <tr style=\"text-align: right;\">\n",
       "      <th></th>\n",
       "      <th>sex</th>\n",
       "      <th>survived</th>\n",
       "    </tr>\n",
       "  </thead>\n",
       "  <tbody>\n",
       "    <tr>\n",
       "      <th>0</th>\n",
       "      <td>female</td>\n",
       "      <td>0.74</td>\n",
       "    </tr>\n",
       "    <tr>\n",
       "      <th>1</th>\n",
       "      <td>male</td>\n",
       "      <td>0.19</td>\n",
       "    </tr>\n",
       "  </tbody>\n",
       "</table>\n",
       "</div>"
      ],
      "text/plain": [
       "      sex  survived\n",
       "0  female      0.74\n",
       "1    male      0.19"
      ]
     },
     "execution_count": 304,
     "metadata": {},
     "output_type": "execute_result"
    }
   ],
   "source": [
    "#Посчитаем средний процент выживших по полу\n",
    "round(df[['sex', 'survived']].groupby('sex', as_index = False).mean(),2)"
   ]
  },
  {
   "cell_type": "code",
   "execution_count": 310,
   "id": "0a5c3f5b-46eb-4931-bf3b-4a1167865029",
   "metadata": {},
   "outputs": [
    {
     "data": {
      "text/plain": [
       "<Axes: xlabel='sex', ylabel='survived'>"
      ]
     },
     "execution_count": 310,
     "metadata": {},
     "output_type": "execute_result"
    },
    {
     "data": {
      "image/png": "[encoded data removed]",
      "text/plain": [
       "<Figure size 640x480 with 1 Axes>"
      ]
     },
     "metadata": {},
     "output_type": "display_data"
    }
   ],
   "source": [
    "#Отобразим на графике процент выживших по полу\n",
    "sns.barplot(x='sex', y='survived', hue='sex', data=df, palette='coolwarm', legend=False)"
   ]
  },
  {
   "cell_type": "markdown",
   "id": "2c604e34-d733-4d30-a927-8b247a6d3ba7",
   "metadata": {},
   "source": [
    "### 📌 Вывод\n",
    "Женщины имели значительно более высокий шанс на выживание, чем мужчины. Среди 314 женщин на борту 233 (≈74%) выжили, в то время как 81 (≈26%) не выжили. Это подтверждает правило «Женщины и дети – первыми», которое применялось при эвакуации.\n",
    "\n",
    "Мужчины, наоборот, имели гораздо меньшие шансы на спасение. Из 577 мужчин выжили только 109 (≈19%), тогда как 468 (≈81%) погибли. Это связано с тем, что приоритет в посадке в спасательные шлюпки отдавался женщинам и детям.\n",
    "\n",
    "Общее соотношение выживших и погибших также демонстрирует значительное гендерное неравенство в шансах на спасение. Женщины выживали примерно в 3,9 раза чаще, чем мужчины (74% против 19%)."
   ]
  },
  {
   "cell_type": "code",
   "execution_count": 321,
   "id": "93da9db0-ffa0-4991-b1e9-25867df0018d",
   "metadata": {},
   "outputs": [
    {
     "data": {
      "text/plain": [
       "pclass\n",
       "3    491\n",
       "1    216\n",
       "2    184\n",
       "Name: count, dtype: int64"
      ]
     },
     "execution_count": 321,
     "metadata": {},
     "output_type": "execute_result"
    }
   ],
   "source": [
    "#Посчитаем кол-во билетов по классам\n",
    "df.pclass.value_counts()"
   ]
  },
  {
   "cell_type": "code",
   "execution_count": 326,
   "id": "cbe37382-c3ce-4474-9b20-bb3ad43ac297",
   "metadata": {},
   "outputs": [
    {
     "data": {
      "text/plain": [
       "pclass  survived\n",
       "1       1           136\n",
       "        0            80\n",
       "2       0            97\n",
       "        1            87\n",
       "3       0           372\n",
       "        1           119\n",
       "Name: count, dtype: int64"
      ]
     },
     "execution_count": 326,
     "metadata": {},
     "output_type": "execute_result"
    }
   ],
   "source": [
    "#Посчитаем кол-во выживших/погибших по классам\n",
    "df.groupby('pclass').survived.value_counts()"
   ]
  },
  {
   "cell_type": "code",
   "execution_count": 336,
   "id": "6f4db2a7-6730-4dd1-9e55-a9ed7e6c2692",
   "metadata": {},
   "outputs": [
    {
     "data": {
      "text/html": [
       "<div>\n",
       "<style scoped>\n",
       "    .dataframe tbody tr th:only-of-type {\n",
       "        vertical-align: middle;\n",
       "    }\n",
       "\n",
       "    .dataframe tbody tr th {\n",
       "        vertical-align: top;\n",
       "    }\n",
       "\n",
       "    .dataframe thead th {\n",
       "        text-align: right;\n",
       "    }\n",
       "</style>\n",
       "<table border=\"1\" class=\"dataframe\">\n",
       "  <thead>\n",
       "    <tr style=\"text-align: right;\">\n",
       "      <th></th>\n",
       "      <th>pclass</th>\n",
       "      <th>survived</th>\n",
       "    </tr>\n",
       "  </thead>\n",
       "  <tbody>\n",
       "    <tr>\n",
       "      <th>0</th>\n",
       "      <td>1</td>\n",
       "      <td>0.63</td>\n",
       "    </tr>\n",
       "    <tr>\n",
       "      <th>1</th>\n",
       "      <td>2</td>\n",
       "      <td>0.47</td>\n",
       "    </tr>\n",
       "    <tr>\n",
       "      <th>2</th>\n",
       "      <td>3</td>\n",
       "      <td>0.24</td>\n",
       "    </tr>\n",
       "  </tbody>\n",
       "</table>\n",
       "</div>"
      ],
      "text/plain": [
       "   pclass  survived\n",
       "0       1      0.63\n",
       "1       2      0.47\n",
       "2       3      0.24"
      ]
     },
     "execution_count": 336,
     "metadata": {},
     "output_type": "execute_result"
    }
   ],
   "source": [
    "#Посчитаем средний процент выживаемости по классам\n",
    "round(df[['pclass', 'survived']].groupby(['pclass'], as_index = False).mean(), 2)"
   ]
  },
  {
   "cell_type": "code",
   "execution_count": 340,
   "id": "5fbf118b-27f4-48bb-94a4-81258e2f7a11",
   "metadata": {},
   "outputs": [
    {
     "data": {
      "text/plain": [
       "<Axes: xlabel='pclass', ylabel='survived'>"
      ]
     },
     "execution_count": 340,
     "metadata": {},
     "output_type": "execute_result"
    },
    {
     "data": {
      "image/png": "[encoded data removed]",
      "text/plain": [
       "<Figure size 640x480 with 1 Axes>"
      ]
     },
     "metadata": {},
     "output_type": "display_data"
    }
   ],
   "source": [
    "#Отобразим средний процент выживаемости по классам на графике\n",
    "sns.barplot(x='pclass', y='survived', data = df, palette='coolwarm', hue='pclass', legend=False)"
   ]
  },
  {
   "cell_type": "markdown",
   "id": "22a60b3a-424a-4f3f-a3c9-5ae3ca04da48",
   "metadata": {},
   "source": [
    "### 📌 Вывод\n",
    "Пассажиры 1-го класса имели наибольшие шансы на выживание – 63% смогли спастись. Это объясняется тем, что каюты 1-го класса находились ближе к палубе, а также высоким социальным статусом пассажиров, которые первыми получали доступ к спасательным шлюпкам.\n",
    "\n",
    "Во 2-м классе процент выживших составил 47%, что ниже, чем в 1-м классе, но все же значительно выше, чем у пассажиров 3-го класса. Это говорит о том, что шансы на спасение в среднем классе были умеренными, но уступали привилегированному 1-му классу.\n",
    "\n",
    "Пассажиры 3-го класса имели наименьшие шансы на спасение – выжило только 24%. Это связано с тем, что их каюты находились в нижних палубах, что затрудняло эвакуацию. Кроме того, приоритет при спасении отдавался пассажирам более высоких классов."
   ]
  },
  {
   "cell_type": "code",
   "execution_count": 345,
   "id": "e8bdab18-cf29-4ac0-8cb5-6e6960467a50",
   "metadata": {},
   "outputs": [
    {
     "data": {
      "text/plain": [
       "<seaborn.axisgrid.FacetGrid at 0x173278170>"
      ]
     },
     "execution_count": 345,
     "metadata": {},
     "output_type": "execute_result"
    },
    {
     "data": {
      "image/png": "[encoded data removed]",
      "text/plain": [
       "<Figure size 1500x500 with 3 Axes>"
      ]
     },
     "metadata": {},
     "output_type": "display_data"
    }
   ],
   "source": [
    "#Нарисуем график соотношения выживших мужчин к выжившим женщинам по классам\n",
    "sns.catplot(data = df, y = 'survived', x = 'sex', col = 'pclass', kind = 'bar', saturation = 0.5, palette='coolwarm', hue='sex', legend=False)"
   ]
  },
  {
   "cell_type": "markdown",
   "id": "647304a6-cab9-421f-8dda-ed260b1ebded",
   "metadata": {},
   "source": [
    "## Выживаемость в зависимости от возраста"
   ]
  },
  {
   "cell_type": "markdown",
   "id": "887f98c2-7708-418b-8efe-f13d8e376ef0",
   "metadata": {},
   "source": [
    "Добавим группировку по возрастным диапазонам, чтобы лучше визуализировать данные."
   ]
  },
  {
   "cell_type": "code",
   "execution_count": 377,
   "id": "3550a2c2-8d91-472d-96ad-ff134181a7c1",
   "metadata": {},
   "outputs": [
    {
     "data": {
      "image/png": "[encoded data removed]",
      "text/plain": [
       "<Figure size 1000x600 with 1 Axes>"
      ]
     },
     "metadata": {},
     "output_type": "display_data"
    }
   ],
   "source": [
    "# Создаем возрастные группы\n",
    "bins = [0, 10, 20, 30, 40, 50, 60, 70, 80]\n",
    "labels = ['0-10', '11-20', '21-30', '31-40', '41-50', '51-60', '61-70', '71-80']\n",
    "titanic_dataset['age_group'] = pd.cut(titanic_dataset['age'], bins=bins, labels=labels)\n",
    "\n",
    "# Строим столбчатый график распределения выживших и погибших по возрастным группам\n",
    "plt.figure(figsize=(10, 6))\n",
    "sns.countplot(x='age_group', hue='survived', data=titanic_dataset, palette='coolwarm')\n",
    "\n",
    "plt.xlabel('Возрастная группа')\n",
    "plt.ylabel('Количество пассажиров')\n",
    "plt.title('Распределение выживших и погибших по возрастным группам')\n",
    "plt.show()\n"
   ]
  },
  {
   "cell_type": "markdown",
   "id": "6a0fd5b8-2803-44fb-8079-ee7d254efae0",
   "metadata": {},
   "source": [
    "### 📌 Вывод\n",
    "\n",
    "Наибольшее количество пассажиров находилось в возрастной группе 20-40 лет.\n",
    "\n",
    "Дети (0-10 лет) выживали значительно чаще, чем взрослые.\n",
    "\n",
    "В возрастных группах 50+ лет количество выживших резко уменьшалось."
   ]
  },
  {
   "cell_type": "code",
   "execution_count": 386,
   "id": "30d874c4-cf87-4398-b0bd-f5fe81a27e07",
   "metadata": {},
   "outputs": [
    {
     "data": {
      "image/png": "[encoded data removed]",
      "text/plain": [
       "<Figure size 1000x600 with 1 Axes>"
      ]
     },
     "metadata": {},
     "output_type": "display_data"
    }
   ],
   "source": [
    "#Построим гистограмму, показывающую, как распределяются выжившие и погибшие по возрасту.\n",
    "plt.figure(figsize=(10, 6))\n",
    "sns.histplot(titanic_dataset, x='age', hue='survived', bins=30, kde=True, palette='coolwarm')\n",
    "\n",
    "plt.xlabel('Возраст')\n",
    "plt.ylabel('Количество пассажиров')\n",
    "plt.title('Распределение возраста среди выживших и погибших')\n",
    "plt.show()\n"
   ]
  },
  {
   "cell_type": "markdown",
   "id": "9fe5223d-7f13-4428-9b5b-e5e8d64bde26",
   "metadata": {},
   "source": [
    "### 📌 Вывод\n",
    "\n",
    "Дети до 10 лет чаще выживали.\n",
    "\n",
    "Взрослые пассажиры 20-40 лет имели как высокий, так и низкий шанс выживания.\n",
    "\n",
    "Среди пожилых пассажиров (60+ лет) количество выживших было минимальным."
   ]
  },
  {
   "cell_type": "markdown",
   "id": "f8ea602c-0098-4c19-8e93-f24b1af54e58",
   "metadata": {},
   "source": [
    "# 📑 Заключение\n",
    "Таким образом, пол пассажира был одним из ключевых факторов, определявших вероятность выживания. Женщины имели преимущество при эвакуации, в то время как мужчины, особенно те, кто путешествовал во 2-м и 3-м классах, сталкивались с крайне низкими шансами на спасение.\n",
    "Возраст был важным фактором выживания: дети выживали чаще. Максимальная смертность наблюдается среди пожилых пассажиров (60+ лет). Группа 20-40 лет — наиболее многочисленная, с разной долей выживших.\n",
    "\n",
    "Также важно отметить, что выживаемость пассажиров Титаника сильно зависела от класса билета. Пассажиры 1-го класса имели почти в 3 раза больше шансов на спасение, чем пассажиры 3-го класса (63% против 24%). Эти данные подтверждают социальное неравенство при эвакуации, где высокий статус и лучшие условия на борту давали преимущество в борьбе за выживание.\n"
   ]
  },
  {
   "cell_type": "code",
   "execution_count": null,
   "id": "caafb5f0-806e-4c34-aaee-0f2521b5d2d7",
   "metadata": {},
   "outputs": [],
   "source": []
  }
 ],
 "metadata": {
  "kernelspec": {
   "display_name": "Python [conda env:base] *",
   "language": "python",
   "name": "conda-base-py"
  },
  "language_info": {
   "codemirror_mode": {
    "name": "ipython",
    "version": 3
   },
   "file_extension": ".py",
   "mimetype": "text/x-python",
   "name": "python",
   "nbconvert_exporter": "python",
   "pygments_lexer": "ipython3",
   "version": "3.12.7"
  }
 },
 "nbformat": 4,
 "nbformat_minor": 5
}
